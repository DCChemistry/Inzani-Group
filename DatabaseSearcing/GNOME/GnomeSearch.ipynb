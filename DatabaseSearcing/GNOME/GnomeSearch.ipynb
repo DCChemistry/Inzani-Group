{
 "cells": [
  {
   "cell_type": "markdown",
   "metadata": {},
   "source": [
    "# Gnome search"
   ]
  },
  {
   "cell_type": "markdown",
   "metadata": {},
   "source": [
    "### Some modules you need to have installed (on the first run, DO NOT run all - just run the cell below and then restart the kernel, and THEN run all)."
   ]
  },
  {
   "cell_type": "code",
   "execution_count": 1,
   "metadata": {},
   "outputs": [
    {
     "name": "stdout",
     "output_type": "stream",
     "text": [
      "Collecting numpy\n",
      "  Obtaining dependency information for numpy from https://files.pythonhosted.org/packages/2a/17/1fdc154e75d24d8c20c42b71bae1b5cf752453f0fc3a2504bbb810293dd1/numpy-1.26.2-cp312-cp312-macosx_11_0_arm64.whl.metadata\n",
      "  Using cached numpy-1.26.2-cp312-cp312-macosx_11_0_arm64.whl.metadata (61 kB)\n",
      "Using cached numpy-1.26.2-cp312-cp312-macosx_11_0_arm64.whl (13.7 MB)\n",
      "Installing collected packages: numpy\n",
      "Successfully installed numpy-1.26.2\n",
      "Note: you may need to restart the kernel to use updated packages.\n",
      "Collecting pandas\n",
      "  Obtaining dependency information for pandas from https://files.pythonhosted.org/packages/a0/68/265225df9e90ade0c332db4148e9aff8c9bcb4e8dd6c681ec4f512770765/pandas-2.1.3-cp312-cp312-macosx_11_0_arm64.whl.metadata\n",
      "  Using cached pandas-2.1.3-cp312-cp312-macosx_11_0_arm64.whl.metadata (18 kB)\n",
      "Requirement already satisfied: numpy<2,>=1.26.0 in /Users/dcriv/mambaforge/envs/GNOMEexample/lib/python3.12/site-packages (from pandas) (1.26.2)\n",
      "Requirement already satisfied: python-dateutil>=2.8.2 in /Users/dcriv/mambaforge/envs/GNOMEexample/lib/python3.12/site-packages (from pandas) (2.8.2)\n",
      "Collecting pytz>=2020.1 (from pandas)\n",
      "  Obtaining dependency information for pytz>=2020.1 from https://files.pythonhosted.org/packages/32/4d/aaf7eff5deb402fd9a24a1449a8119f00d74ae9c2efa79f8ef9994261fc2/pytz-2023.3.post1-py2.py3-none-any.whl.metadata\n",
      "  Using cached pytz-2023.3.post1-py2.py3-none-any.whl.metadata (22 kB)\n",
      "Collecting tzdata>=2022.1 (from pandas)\n",
      "  Using cached tzdata-2023.3-py2.py3-none-any.whl (341 kB)\n",
      "Requirement already satisfied: six>=1.5 in /Users/dcriv/mambaforge/envs/GNOMEexample/lib/python3.12/site-packages (from python-dateutil>=2.8.2->pandas) (1.16.0)\n",
      "Using cached pandas-2.1.3-cp312-cp312-macosx_11_0_arm64.whl (10.6 MB)\n",
      "Using cached pytz-2023.3.post1-py2.py3-none-any.whl (502 kB)\n",
      "Installing collected packages: pytz, tzdata, pandas\n",
      "Successfully installed pandas-2.1.3 pytz-2023.3.post1 tzdata-2023.3\n",
      "Note: you may need to restart the kernel to use updated packages.\n",
      "Collecting pymatgen\n",
      "  Using cached pymatgen-2023.11.12-cp312-cp312-macosx_11_0_arm64.whl\n",
      "Collecting matplotlib>=1.5 (from pymatgen)\n",
      "  Obtaining dependency information for matplotlib>=1.5 from https://files.pythonhosted.org/packages/9a/b0/dd2b60f2dd90fbc21d1d3129c36a453c322d7995d5e3589f5b3c59ee528d/matplotlib-3.8.2-cp312-cp312-macosx_11_0_arm64.whl.metadata\n",
      "  Using cached matplotlib-3.8.2-cp312-cp312-macosx_11_0_arm64.whl.metadata (5.8 kB)\n",
      "Collecting monty>=3.0.2 (from pymatgen)\n",
      "  Obtaining dependency information for monty>=3.0.2 from https://files.pythonhosted.org/packages/28/0b/71fd3a6c7825847df91703b58119f2461a2773575d8b4f78710b511b5082/monty-2023.11.3-py3-none-any.whl.metadata\n",
      "  Using cached monty-2023.11.3-py3-none-any.whl.metadata (2.5 kB)\n",
      "Collecting networkx>=2.2 (from pymatgen)\n",
      "  Obtaining dependency information for networkx>=2.2 from https://files.pythonhosted.org/packages/d5/f0/8fbc882ca80cf077f1b246c0e3c3465f7f415439bdea6b899f6b19f61f70/networkx-3.2.1-py3-none-any.whl.metadata\n",
      "  Using cached networkx-3.2.1-py3-none-any.whl.metadata (5.2 kB)\n",
      "Requirement already satisfied: numpy>=1.25.0 in /Users/dcriv/mambaforge/envs/GNOMEexample/lib/python3.12/site-packages (from pymatgen) (1.26.2)\n",
      "Collecting palettable>=3.1.1 (from pymatgen)\n",
      "  Using cached palettable-3.3.3-py2.py3-none-any.whl (332 kB)\n",
      "Requirement already satisfied: pandas in /Users/dcriv/mambaforge/envs/GNOMEexample/lib/python3.12/site-packages (from pymatgen) (2.1.3)\n",
      "Collecting plotly>=4.5.0 (from pymatgen)\n",
      "  Obtaining dependency information for plotly>=4.5.0 from https://files.pythonhosted.org/packages/a8/07/72953cf70e3bd3a24cbc3e743e6f8539abe6e3e6d83c3c0c83426eaffd39/plotly-5.18.0-py3-none-any.whl.metadata\n",
      "  Using cached plotly-5.18.0-py3-none-any.whl.metadata (7.0 kB)\n",
      "Collecting pybtex (from pymatgen)\n",
      "  Using cached pybtex-0.24.0-py2.py3-none-any.whl (561 kB)\n",
      "Collecting requests (from pymatgen)\n",
      "  Obtaining dependency information for requests from https://files.pythonhosted.org/packages/70/8e/0e2d847013cb52cd35b38c009bb167a1a26b2ce6cd6965bf26b47bc0bf44/requests-2.31.0-py3-none-any.whl.metadata\n",
      "  Using cached requests-2.31.0-py3-none-any.whl.metadata (4.6 kB)\n",
      "Collecting ruamel.yaml>=0.17.0 (from pymatgen)\n",
      "  Obtaining dependency information for ruamel.yaml>=0.17.0 from https://files.pythonhosted.org/packages/57/db/4b74a29f5fd175aea3ff0d95f8230d9bb8a54e38d963c6f96065b9e2eef3/ruamel.yaml-0.18.5-py3-none-any.whl.metadata\n",
      "  Using cached ruamel.yaml-0.18.5-py3-none-any.whl.metadata (23 kB)\n",
      "Collecting scipy>=1.5.0 (from pymatgen)\n",
      "  Obtaining dependency information for scipy>=1.5.0 from https://files.pythonhosted.org/packages/5e/43/abf331745a7e5f4af51f13d40e2a72f516048db41ecbcf3ac6f86ada54a3/scipy-1.11.4-cp312-cp312-macosx_12_0_arm64.whl.metadata\n",
      "  Using cached scipy-1.11.4-cp312-cp312-macosx_12_0_arm64.whl.metadata (217 kB)\n",
      "Collecting spglib>=2.0.2 (from pymatgen)\n",
      "  Using cached spglib-2.1.0-cp312-cp312-macosx_14_0_arm64.whl\n",
      "Collecting sympy (from pymatgen)\n",
      "  Using cached sympy-1.12-py3-none-any.whl (5.7 MB)\n",
      "Collecting tabulate (from pymatgen)\n",
      "  Using cached tabulate-0.9.0-py3-none-any.whl (35 kB)\n",
      "Collecting tqdm (from pymatgen)\n",
      "  Obtaining dependency information for tqdm from https://files.pythonhosted.org/packages/00/e5/f12a80907d0884e6dff9c16d0c0114d81b8cd07dc3ae54c5e962cc83037e/tqdm-4.66.1-py3-none-any.whl.metadata\n",
      "  Using cached tqdm-4.66.1-py3-none-any.whl.metadata (57 kB)\n",
      "Collecting uncertainties>=3.1.4 (from pymatgen)\n",
      "  Using cached uncertainties-3.1.7-py2.py3-none-any.whl (98 kB)\n",
      "Collecting joblib (from pymatgen)\n",
      "  Obtaining dependency information for joblib from https://files.pythonhosted.org/packages/10/40/d551139c85db202f1f384ba8bcf96aca2f329440a844f924c8a0040b6d02/joblib-1.3.2-py3-none-any.whl.metadata\n",
      "  Using cached joblib-1.3.2-py3-none-any.whl.metadata (5.4 kB)\n",
      "Collecting contourpy>=1.0.1 (from matplotlib>=1.5->pymatgen)\n",
      "  Obtaining dependency information for contourpy>=1.0.1 from https://files.pythonhosted.org/packages/f3/9e/8fb3f53144269d3fecdd8786d3a4686eeff55b9b35a3c0772a3f62f71e36/contourpy-1.2.0-cp312-cp312-macosx_11_0_arm64.whl.metadata\n",
      "  Using cached contourpy-1.2.0-cp312-cp312-macosx_11_0_arm64.whl.metadata (5.8 kB)\n",
      "Collecting cycler>=0.10 (from matplotlib>=1.5->pymatgen)\n",
      "  Obtaining dependency information for cycler>=0.10 from https://files.pythonhosted.org/packages/e7/05/c19819d5e3d95294a6f5947fb9b9629efb316b96de511b418c53d245aae6/cycler-0.12.1-py3-none-any.whl.metadata\n",
      "  Using cached cycler-0.12.1-py3-none-any.whl.metadata (3.8 kB)\n",
      "Collecting fonttools>=4.22.0 (from matplotlib>=1.5->pymatgen)\n",
      "  Obtaining dependency information for fonttools>=4.22.0 from https://files.pythonhosted.org/packages/48/a6/59dc64f3fabc9267de712256aa5337edb3aa96e245192f3d16599adaa015/fonttools-4.46.0-cp312-cp312-macosx_10_9_universal2.whl.metadata\n",
      "  Using cached fonttools-4.46.0-cp312-cp312-macosx_10_9_universal2.whl.metadata (156 kB)\n",
      "Collecting kiwisolver>=1.3.1 (from matplotlib>=1.5->pymatgen)\n",
      "  Obtaining dependency information for kiwisolver>=1.3.1 from https://files.pythonhosted.org/packages/26/61/58bb691f6880588be3a4801d199bd776032ece07203faf3e4a8b377f7d9b/kiwisolver-1.4.5-cp312-cp312-macosx_11_0_arm64.whl.metadata\n",
      "  Using cached kiwisolver-1.4.5-cp312-cp312-macosx_11_0_arm64.whl.metadata (6.4 kB)\n",
      "Requirement already satisfied: packaging>=20.0 in /Users/dcriv/mambaforge/envs/GNOMEexample/lib/python3.12/site-packages (from matplotlib>=1.5->pymatgen) (23.2)\n",
      "Collecting pillow>=8 (from matplotlib>=1.5->pymatgen)\n",
      "  Obtaining dependency information for pillow>=8 from https://files.pythonhosted.org/packages/3d/6f/6f716f16bcb9bf39f54b9d2d993f535a0ee42cc0fec973c80839b0720ca2/Pillow-10.1.0-cp312-cp312-macosx_11_0_arm64.whl.metadata\n",
      "  Using cached Pillow-10.1.0-cp312-cp312-macosx_11_0_arm64.whl.metadata (9.5 kB)\n",
      "Collecting pyparsing>=2.3.1 (from matplotlib>=1.5->pymatgen)\n",
      "  Obtaining dependency information for pyparsing>=2.3.1 from https://files.pythonhosted.org/packages/39/92/8486ede85fcc088f1b3dba4ce92dd29d126fd96b0008ea213167940a2475/pyparsing-3.1.1-py3-none-any.whl.metadata\n",
      "  Using cached pyparsing-3.1.1-py3-none-any.whl.metadata (5.1 kB)\n",
      "Requirement already satisfied: python-dateutil>=2.7 in /Users/dcriv/mambaforge/envs/GNOMEexample/lib/python3.12/site-packages (from matplotlib>=1.5->pymatgen) (2.8.2)\n",
      "Collecting tenacity>=6.2.0 (from plotly>=4.5.0->pymatgen)\n",
      "  Obtaining dependency information for tenacity>=6.2.0 from https://files.pythonhosted.org/packages/f4/f1/990741d5bb2487d529d20a433210ffa136a367751e454214013b441c4575/tenacity-8.2.3-py3-none-any.whl.metadata\n",
      "  Using cached tenacity-8.2.3-py3-none-any.whl.metadata (1.0 kB)\n",
      "Collecting ruamel.yaml.clib>=0.2.7 (from ruamel.yaml>=0.17.0->pymatgen)\n",
      "  Obtaining dependency information for ruamel.yaml.clib>=0.2.7 from https://files.pythonhosted.org/packages/66/98/8de4f22bbfd9135deb3422e96d450c4bc0a57d38c25976119307d2efe0aa/ruamel.yaml.clib-0.2.8-cp312-cp312-macosx_13_0_arm64.whl.metadata\n",
      "  Using cached ruamel.yaml.clib-0.2.8-cp312-cp312-macosx_13_0_arm64.whl.metadata (2.2 kB)\n",
      "Collecting future (from uncertainties>=3.1.4->pymatgen)\n",
      "  Using cached future-0.18.3-py3-none-any.whl\n",
      "Requirement already satisfied: pytz>=2020.1 in /Users/dcriv/mambaforge/envs/GNOMEexample/lib/python3.12/site-packages (from pandas->pymatgen) (2023.3.post1)\n",
      "Requirement already satisfied: tzdata>=2022.1 in /Users/dcriv/mambaforge/envs/GNOMEexample/lib/python3.12/site-packages (from pandas->pymatgen) (2023.3)\n",
      "Collecting PyYAML>=3.01 (from pybtex->pymatgen)\n",
      "  Obtaining dependency information for PyYAML>=3.01 from https://files.pythonhosted.org/packages/84/02/404de95ced348b73dd84f70e15a41843d817ff8c1744516bf78358f2ffd2/PyYAML-6.0.1-cp312-cp312-macosx_11_0_arm64.whl.metadata\n",
      "  Using cached PyYAML-6.0.1-cp312-cp312-macosx_11_0_arm64.whl.metadata (2.1 kB)\n",
      "Collecting latexcodec>=1.0.4 (from pybtex->pymatgen)\n",
      "  Using cached latexcodec-2.0.1-py2.py3-none-any.whl (18 kB)\n",
      "Requirement already satisfied: six in /Users/dcriv/mambaforge/envs/GNOMEexample/lib/python3.12/site-packages (from pybtex->pymatgen) (1.16.0)\n",
      "Collecting charset-normalizer<4,>=2 (from requests->pymatgen)\n",
      "  Obtaining dependency information for charset-normalizer<4,>=2 from https://files.pythonhosted.org/packages/3a/52/9f9d17c3b54dc238de384c4cb5a2ef0e27985b42a0e5cc8e8a31d918d48d/charset_normalizer-3.3.2-cp312-cp312-macosx_11_0_arm64.whl.metadata\n",
      "  Using cached charset_normalizer-3.3.2-cp312-cp312-macosx_11_0_arm64.whl.metadata (33 kB)\n",
      "Collecting idna<4,>=2.5 (from requests->pymatgen)\n",
      "  Obtaining dependency information for idna<4,>=2.5 from https://files.pythonhosted.org/packages/c2/e7/a82b05cf63a603df6e68d59ae6a68bf5064484a0718ea5033660af4b54a9/idna-3.6-py3-none-any.whl.metadata\n",
      "  Using cached idna-3.6-py3-none-any.whl.metadata (9.9 kB)\n",
      "Collecting urllib3<3,>=1.21.1 (from requests->pymatgen)\n",
      "  Obtaining dependency information for urllib3<3,>=1.21.1 from https://files.pythonhosted.org/packages/96/94/c31f58c7a7f470d5665935262ebd7455c7e4c7782eb525658d3dbf4b9403/urllib3-2.1.0-py3-none-any.whl.metadata\n",
      "  Using cached urllib3-2.1.0-py3-none-any.whl.metadata (6.4 kB)\n",
      "Collecting certifi>=2017.4.17 (from requests->pymatgen)\n",
      "  Obtaining dependency information for certifi>=2017.4.17 from https://files.pythonhosted.org/packages/64/62/428ef076be88fa93716b576e4a01f919d25968913e817077a386fcbe4f42/certifi-2023.11.17-py3-none-any.whl.metadata\n",
      "  Using cached certifi-2023.11.17-py3-none-any.whl.metadata (2.2 kB)\n",
      "Collecting mpmath>=0.19 (from sympy->pymatgen)\n",
      "  Using cached mpmath-1.3.0-py3-none-any.whl (536 kB)\n",
      "Using cached matplotlib-3.8.2-cp312-cp312-macosx_11_0_arm64.whl (7.5 MB)\n",
      "Using cached monty-2023.11.3-py3-none-any.whl (42 kB)\n",
      "Using cached networkx-3.2.1-py3-none-any.whl (1.6 MB)\n",
      "Using cached plotly-5.18.0-py3-none-any.whl (15.6 MB)\n",
      "Using cached ruamel.yaml-0.18.5-py3-none-any.whl (116 kB)\n",
      "Using cached scipy-1.11.4-cp312-cp312-macosx_12_0_arm64.whl (29.6 MB)\n",
      "Using cached joblib-1.3.2-py3-none-any.whl (302 kB)\n",
      "Using cached requests-2.31.0-py3-none-any.whl (62 kB)\n",
      "Using cached tqdm-4.66.1-py3-none-any.whl (78 kB)\n",
      "Using cached certifi-2023.11.17-py3-none-any.whl (162 kB)\n",
      "Using cached charset_normalizer-3.3.2-cp312-cp312-macosx_11_0_arm64.whl (119 kB)\n",
      "Using cached contourpy-1.2.0-cp312-cp312-macosx_11_0_arm64.whl (242 kB)\n",
      "Using cached cycler-0.12.1-py3-none-any.whl (8.3 kB)\n",
      "Using cached fonttools-4.46.0-cp312-cp312-macosx_10_9_universal2.whl (2.8 MB)\n",
      "Using cached idna-3.6-py3-none-any.whl (61 kB)\n",
      "Using cached kiwisolver-1.4.5-cp312-cp312-macosx_11_0_arm64.whl (64 kB)\n",
      "Using cached Pillow-10.1.0-cp312-cp312-macosx_11_0_arm64.whl (3.3 MB)\n",
      "Using cached pyparsing-3.1.1-py3-none-any.whl (103 kB)\n",
      "Using cached PyYAML-6.0.1-cp312-cp312-macosx_11_0_arm64.whl (165 kB)\n",
      "Using cached ruamel.yaml.clib-0.2.8-cp312-cp312-macosx_13_0_arm64.whl (135 kB)\n",
      "Using cached tenacity-8.2.3-py3-none-any.whl (24 kB)\n",
      "Using cached urllib3-2.1.0-py3-none-any.whl (104 kB)\n",
      "Installing collected packages: mpmath, urllib3, tqdm, tenacity, tabulate, sympy, spglib, scipy, ruamel.yaml.clib, PyYAML, pyparsing, pillow, palettable, networkx, monty, latexcodec, kiwisolver, joblib, idna, future, fonttools, cycler, contourpy, charset-normalizer, certifi, uncertainties, ruamel.yaml, requests, pybtex, plotly, matplotlib, pymatgen\n",
      "Successfully installed PyYAML-6.0.1 certifi-2023.11.17 charset-normalizer-3.3.2 contourpy-1.2.0 cycler-0.12.1 fonttools-4.46.0 future-0.18.3 idna-3.6 joblib-1.3.2 kiwisolver-1.4.5 latexcodec-2.0.1 matplotlib-3.8.2 monty-2023.11.3 mpmath-1.3.0 networkx-3.2.1 palettable-3.3.3 pillow-10.1.0 plotly-5.18.0 pybtex-0.24.0 pymatgen-2023.11.12 pyparsing-3.1.1 requests-2.31.0 ruamel.yaml-0.18.5 ruamel.yaml.clib-0.2.8 scipy-1.11.4 spglib-2.1.0 sympy-1.12 tabulate-0.9.0 tenacity-8.2.3 tqdm-4.66.1 uncertainties-3.1.7 urllib3-2.1.0\n",
      "Note: you may need to restart the kernel to use updated packages.\n",
      "Collecting robocrys\n",
      "  Obtaining dependency information for robocrys from https://files.pythonhosted.org/packages/03/b3/2aeebe30b732a0179381c0b3c1e826ebf27af6f0123327a741c5191265ed/robocrys-0.2.8-py3-none-any.whl.metadata\n",
      "  Using cached robocrys-0.2.8-py3-none-any.whl.metadata (8.1 kB)\n",
      "Collecting inflect (from robocrys)\n",
      "  Obtaining dependency information for inflect from https://files.pythonhosted.org/packages/fb/c6/d9feb758be584f729424390af24687d3a4363d968164f94079f83cd536b4/inflect-7.0.0-py3-none-any.whl.metadata\n",
      "  Using cached inflect-7.0.0-py3-none-any.whl.metadata (21 kB)\n",
      "Collecting matminer (from robocrys)\n",
      "  Obtaining dependency information for matminer from https://files.pythonhosted.org/packages/21/46/f70a778ddb5ea4e265aedb429865d8e7787e41207da054f04682ad5aaec4/matminer-0.9.0-py3-none-any.whl.metadata\n",
      "  Using cached matminer-0.9.0-py3-none-any.whl.metadata (4.8 kB)\n",
      "Requirement already satisfied: monty in /Users/dcriv/mambaforge/envs/GNOMEexample/lib/python3.12/site-packages (from robocrys) (2023.11.3)\n",
      "Requirement already satisfied: networkx in /Users/dcriv/mambaforge/envs/GNOMEexample/lib/python3.12/site-packages (from robocrys) (3.2.1)\n",
      "Requirement already satisfied: numpy in /Users/dcriv/mambaforge/envs/GNOMEexample/lib/python3.12/site-packages (from robocrys) (1.26.2)\n",
      "Collecting pubchempy (from robocrys)\n",
      "  Using cached PubChemPy-1.0.4-py3-none-any.whl\n",
      "Requirement already satisfied: pybtex in /Users/dcriv/mambaforge/envs/GNOMEexample/lib/python3.12/site-packages (from robocrys) (0.24.0)\n",
      "Requirement already satisfied: pymatgen>=2020.10.20 in /Users/dcriv/mambaforge/envs/GNOMEexample/lib/python3.12/site-packages (from robocrys) (2023.11.12)\n",
      "Requirement already satisfied: ruamel.yaml in /Users/dcriv/mambaforge/envs/GNOMEexample/lib/python3.12/site-packages (from robocrys) (0.18.5)\n",
      "Requirement already satisfied: scipy in /Users/dcriv/mambaforge/envs/GNOMEexample/lib/python3.12/site-packages (from robocrys) (1.11.4)\n",
      "Requirement already satisfied: spglib in /Users/dcriv/mambaforge/envs/GNOMEexample/lib/python3.12/site-packages (from robocrys) (2.1.0)\n",
      "Requirement already satisfied: matplotlib>=1.5 in /Users/dcriv/mambaforge/envs/GNOMEexample/lib/python3.12/site-packages (from pymatgen>=2020.10.20->robocrys) (3.8.2)\n",
      "Requirement already satisfied: palettable>=3.1.1 in /Users/dcriv/mambaforge/envs/GNOMEexample/lib/python3.12/site-packages (from pymatgen>=2020.10.20->robocrys) (3.3.3)\n",
      "Requirement already satisfied: pandas in /Users/dcriv/mambaforge/envs/GNOMEexample/lib/python3.12/site-packages (from pymatgen>=2020.10.20->robocrys) (2.1.3)\n",
      "Requirement already satisfied: plotly>=4.5.0 in /Users/dcriv/mambaforge/envs/GNOMEexample/lib/python3.12/site-packages (from pymatgen>=2020.10.20->robocrys) (5.18.0)\n",
      "Requirement already satisfied: requests in /Users/dcriv/mambaforge/envs/GNOMEexample/lib/python3.12/site-packages (from pymatgen>=2020.10.20->robocrys) (2.31.0)\n",
      "Requirement already satisfied: sympy in /Users/dcriv/mambaforge/envs/GNOMEexample/lib/python3.12/site-packages (from pymatgen>=2020.10.20->robocrys) (1.12)\n",
      "Requirement already satisfied: tabulate in /Users/dcriv/mambaforge/envs/GNOMEexample/lib/python3.12/site-packages (from pymatgen>=2020.10.20->robocrys) (0.9.0)\n",
      "Requirement already satisfied: tqdm in /Users/dcriv/mambaforge/envs/GNOMEexample/lib/python3.12/site-packages (from pymatgen>=2020.10.20->robocrys) (4.66.1)\n",
      "Requirement already satisfied: uncertainties>=3.1.4 in /Users/dcriv/mambaforge/envs/GNOMEexample/lib/python3.12/site-packages (from pymatgen>=2020.10.20->robocrys) (3.1.7)\n",
      "Requirement already satisfied: joblib in /Users/dcriv/mambaforge/envs/GNOMEexample/lib/python3.12/site-packages (from pymatgen>=2020.10.20->robocrys) (1.3.2)\n",
      "Requirement already satisfied: ruamel.yaml.clib>=0.2.7 in /Users/dcriv/mambaforge/envs/GNOMEexample/lib/python3.12/site-packages (from ruamel.yaml->robocrys) (0.2.8)\n",
      "Collecting pydantic>=1.9.1 (from inflect->robocrys)\n",
      "  Obtaining dependency information for pydantic>=1.9.1 from https://files.pythonhosted.org/packages/0a/2b/64066de1c4cf3d4ed623beeb3bbf3f8d0cc26661f1e7d180ec5eb66b75a5/pydantic-2.5.2-py3-none-any.whl.metadata\n",
      "  Using cached pydantic-2.5.2-py3-none-any.whl.metadata (65 kB)\n",
      "Requirement already satisfied: typing-extensions in /Users/dcriv/mambaforge/envs/GNOMEexample/lib/python3.12/site-packages (from inflect->robocrys) (4.8.0)\n",
      "Collecting pandas (from pymatgen>=2020.10.20->robocrys)\n",
      "  Using cached pandas-1.5.3-cp312-cp312-macosx_11_0_arm64.whl\n",
      "Collecting pymongo (from matminer->robocrys)\n",
      "  Obtaining dependency information for pymongo from https://files.pythonhosted.org/packages/f0/7e/076144a8deaf9ad41411852be2d65fbb033e899bfd297975496acc5bc7be/pymongo-4.6.1-cp312-cp312-macosx_10_9_universal2.whl.metadata\n",
      "  Using cached pymongo-4.6.1-cp312-cp312-macosx_10_9_universal2.whl.metadata (22 kB)\n",
      "Requirement already satisfied: future in /Users/dcriv/mambaforge/envs/GNOMEexample/lib/python3.12/site-packages (from matminer->robocrys) (0.18.3)\n",
      "Collecting scikit-learn (from matminer->robocrys)\n",
      "  Obtaining dependency information for scikit-learn from https://files.pythonhosted.org/packages/cf/fc/6c52ffeb587259b6b893b7cac268f1eb1b5426bcce1aa20e53523bfe6944/scikit_learn-1.3.2-cp312-cp312-macosx_12_0_arm64.whl.metadata\n",
      "  Using cached scikit_learn-1.3.2-cp312-cp312-macosx_12_0_arm64.whl.metadata (11 kB)\n",
      "Requirement already satisfied: PyYAML>=3.01 in /Users/dcriv/mambaforge/envs/GNOMEexample/lib/python3.12/site-packages (from pybtex->robocrys) (6.0.1)\n",
      "Requirement already satisfied: latexcodec>=1.0.4 in /Users/dcriv/mambaforge/envs/GNOMEexample/lib/python3.12/site-packages (from pybtex->robocrys) (2.0.1)\n",
      "Requirement already satisfied: six in /Users/dcriv/mambaforge/envs/GNOMEexample/lib/python3.12/site-packages (from pybtex->robocrys) (1.16.0)\n",
      "Requirement already satisfied: contourpy>=1.0.1 in /Users/dcriv/mambaforge/envs/GNOMEexample/lib/python3.12/site-packages (from matplotlib>=1.5->pymatgen>=2020.10.20->robocrys) (1.2.0)\n",
      "Requirement already satisfied: cycler>=0.10 in /Users/dcriv/mambaforge/envs/GNOMEexample/lib/python3.12/site-packages (from matplotlib>=1.5->pymatgen>=2020.10.20->robocrys) (0.12.1)\n",
      "Requirement already satisfied: fonttools>=4.22.0 in /Users/dcriv/mambaforge/envs/GNOMEexample/lib/python3.12/site-packages (from matplotlib>=1.5->pymatgen>=2020.10.20->robocrys) (4.46.0)\n",
      "Requirement already satisfied: kiwisolver>=1.3.1 in /Users/dcriv/mambaforge/envs/GNOMEexample/lib/python3.12/site-packages (from matplotlib>=1.5->pymatgen>=2020.10.20->robocrys) (1.4.5)\n",
      "Requirement already satisfied: packaging>=20.0 in /Users/dcriv/mambaforge/envs/GNOMEexample/lib/python3.12/site-packages (from matplotlib>=1.5->pymatgen>=2020.10.20->robocrys) (23.2)\n",
      "Requirement already satisfied: pillow>=8 in /Users/dcriv/mambaforge/envs/GNOMEexample/lib/python3.12/site-packages (from matplotlib>=1.5->pymatgen>=2020.10.20->robocrys) (10.1.0)\n",
      "Requirement already satisfied: pyparsing>=2.3.1 in /Users/dcriv/mambaforge/envs/GNOMEexample/lib/python3.12/site-packages (from matplotlib>=1.5->pymatgen>=2020.10.20->robocrys) (3.1.1)\n",
      "Requirement already satisfied: python-dateutil>=2.7 in /Users/dcriv/mambaforge/envs/GNOMEexample/lib/python3.12/site-packages (from matplotlib>=1.5->pymatgen>=2020.10.20->robocrys) (2.8.2)\n",
      "Requirement already satisfied: pytz>=2020.1 in /Users/dcriv/mambaforge/envs/GNOMEexample/lib/python3.12/site-packages (from pandas->pymatgen>=2020.10.20->robocrys) (2023.3.post1)\n",
      "Requirement already satisfied: tenacity>=6.2.0 in /Users/dcriv/mambaforge/envs/GNOMEexample/lib/python3.12/site-packages (from plotly>=4.5.0->pymatgen>=2020.10.20->robocrys) (8.2.3)\n",
      "Collecting annotated-types>=0.4.0 (from pydantic>=1.9.1->inflect->robocrys)\n",
      "  Obtaining dependency information for annotated-types>=0.4.0 from https://files.pythonhosted.org/packages/28/78/d31230046e58c207284c6b2c4e8d96e6d3cb4e52354721b944d3e1ee4aa5/annotated_types-0.6.0-py3-none-any.whl.metadata\n",
      "  Using cached annotated_types-0.6.0-py3-none-any.whl.metadata (12 kB)\n",
      "Collecting pydantic-core==2.14.5 (from pydantic>=1.9.1->inflect->robocrys)\n",
      "  Obtaining dependency information for pydantic-core==2.14.5 from https://files.pythonhosted.org/packages/eb/45/5eef8d36c2bf4c63e73e598fe523a0bc15069a97994481e27bef933ff423/pydantic_core-2.14.5-cp312-cp312-macosx_11_0_arm64.whl.metadata\n",
      "  Using cached pydantic_core-2.14.5-cp312-cp312-macosx_11_0_arm64.whl.metadata (6.5 kB)\n",
      "Collecting dnspython<3.0.0,>=1.16.0 (from pymongo->matminer->robocrys)\n",
      "  Obtaining dependency information for dnspython<3.0.0,>=1.16.0 from https://files.pythonhosted.org/packages/f6/b4/0a9bee52c50f226a3cbfb54263d02bb421c7f2adc136520729c2c689c1e5/dnspython-2.4.2-py3-none-any.whl.metadata\n",
      "  Using cached dnspython-2.4.2-py3-none-any.whl.metadata (4.9 kB)\n",
      "Requirement already satisfied: charset-normalizer<4,>=2 in /Users/dcriv/mambaforge/envs/GNOMEexample/lib/python3.12/site-packages (from requests->pymatgen>=2020.10.20->robocrys) (3.3.2)\n",
      "Requirement already satisfied: idna<4,>=2.5 in /Users/dcriv/mambaforge/envs/GNOMEexample/lib/python3.12/site-packages (from requests->pymatgen>=2020.10.20->robocrys) (3.6)\n",
      "Requirement already satisfied: urllib3<3,>=1.21.1 in /Users/dcriv/mambaforge/envs/GNOMEexample/lib/python3.12/site-packages (from requests->pymatgen>=2020.10.20->robocrys) (2.1.0)\n",
      "Requirement already satisfied: certifi>=2017.4.17 in /Users/dcriv/mambaforge/envs/GNOMEexample/lib/python3.12/site-packages (from requests->pymatgen>=2020.10.20->robocrys) (2023.11.17)\n",
      "Collecting threadpoolctl>=2.0.0 (from scikit-learn->matminer->robocrys)\n",
      "  Obtaining dependency information for threadpoolctl>=2.0.0 from https://files.pythonhosted.org/packages/81/12/fd4dea011af9d69e1cad05c75f3f7202cdcbeac9b712eea58ca779a72865/threadpoolctl-3.2.0-py3-none-any.whl.metadata\n",
      "  Using cached threadpoolctl-3.2.0-py3-none-any.whl.metadata (10.0 kB)\n",
      "Requirement already satisfied: mpmath>=0.19 in /Users/dcriv/mambaforge/envs/GNOMEexample/lib/python3.12/site-packages (from sympy->pymatgen>=2020.10.20->robocrys) (1.3.0)\n",
      "Using cached robocrys-0.2.8-py3-none-any.whl (3.8 MB)\n",
      "Using cached inflect-7.0.0-py3-none-any.whl (34 kB)\n",
      "Using cached matminer-0.9.0-py3-none-any.whl (1.4 MB)\n",
      "Using cached pydantic-2.5.2-py3-none-any.whl (381 kB)\n",
      "Using cached pydantic_core-2.14.5-cp312-cp312-macosx_11_0_arm64.whl (1.7 MB)\n",
      "Using cached pymongo-4.6.1-cp312-cp312-macosx_10_9_universal2.whl (533 kB)\n",
      "Using cached scikit_learn-1.3.2-cp312-cp312-macosx_12_0_arm64.whl (9.3 MB)\n",
      "Using cached annotated_types-0.6.0-py3-none-any.whl (12 kB)\n",
      "Using cached dnspython-2.4.2-py3-none-any.whl (300 kB)\n",
      "Using cached threadpoolctl-3.2.0-py3-none-any.whl (15 kB)\n",
      "Installing collected packages: pubchempy, threadpoolctl, pydantic-core, dnspython, annotated-types, scikit-learn, pymongo, pydantic, pandas, inflect, matminer, robocrys\n",
      "  Attempting uninstall: pandas\n",
      "    Found existing installation: pandas 2.1.3\n",
      "    Uninstalling pandas-2.1.3:\n",
      "      Successfully uninstalled pandas-2.1.3\n",
      "Successfully installed annotated-types-0.6.0 dnspython-2.4.2 inflect-7.0.0 matminer-0.9.0 pandas-1.5.3 pubchempy-1.0.4 pydantic-2.5.2 pydantic-core-2.14.5 pymongo-4.6.1 robocrys-0.2.8 scikit-learn-1.3.2 threadpoolctl-3.2.0\n",
      "Note: you may need to restart the kernel to use updated packages.\n",
      "Collecting json_tricks\n",
      "  Obtaining dependency information for json_tricks from https://files.pythonhosted.org/packages/ae/fd/e3edcf827e7f9c17c5ea1a192841dcfb1dd575a7518c25c5cadd921625b1/json_tricks-3.17.3-py2.py3-none-any.whl.metadata\n",
      "  Using cached json_tricks-3.17.3-py2.py3-none-any.whl.metadata (16 kB)\n",
      "Using cached json_tricks-3.17.3-py2.py3-none-any.whl (27 kB)\n",
      "Installing collected packages: json_tricks\n",
      "Successfully installed json_tricks-3.17.3\n",
      "Note: you may need to restart the kernel to use updated packages.\n",
      "Collecting openpyxl\n",
      "  Using cached openpyxl-3.1.2-py2.py3-none-any.whl (249 kB)\n",
      "Collecting et-xmlfile (from openpyxl)\n",
      "  Using cached et_xmlfile-1.1.0-py3-none-any.whl (4.7 kB)\n",
      "Installing collected packages: et-xmlfile, openpyxl\n",
      "Successfully installed et-xmlfile-1.1.0 openpyxl-3.1.2\n",
      "Note: you may need to restart the kernel to use updated packages.\n",
      "Collecting wget\n",
      "  Using cached wget-3.2.zip (10 kB)\n",
      "  Preparing metadata (setup.py) ... \u001b[?25ldone\n",
      "\u001b[?25hBuilding wheels for collected packages: wget\n",
      "  Building wheel for wget (setup.py) ... \u001b[?25ldone\n",
      "\u001b[?25h  Created wheel for wget: filename=wget-3.2-py3-none-any.whl size=9655 sha256=f0d561752d4c5f9d24858d4c7558fe6d18515653cdd1b9012d67cd7d221de2ce\n",
      "  Stored in directory: /Users/dcriv/Library/Caches/pip/wheels/01/46/3b/e29ffbe4ebe614ff224bad40fc6a5773a67a163251585a13a9\n",
      "Successfully built wget\n",
      "Installing collected packages: wget\n",
      "Successfully installed wget-3.2\n",
      "Note: you may need to restart the kernel to use updated packages.\n"
     ]
    }
   ],
   "source": [
    "%pip install numpy\n",
    "%pip install pandas\n",
    "%pip install pymatgen\n",
    "%pip install robocrys\n",
    "%pip install json_tricks\n",
    "%pip install openpyxl\n",
    "%pip install wget"
   ]
  },
  {
   "cell_type": "markdown",
   "metadata": {},
   "source": [
    "### Now restart and run all (if this is your first run)."
   ]
  },
  {
   "cell_type": "markdown",
   "metadata": {},
   "source": [
    "### Downloading necessary files (if they haven't been downloaded already)"
   ]
  },
  {
   "cell_type": "code",
   "execution_count": 1,
   "metadata": {},
   "outputs": [
    {
     "name": "stdout",
     "output_type": "stream",
     "text": [
      "Downloading stable_materials_summary.csv\n",
      "Completed stable_materials_summary.csv download.\n",
      "\n",
      "Downloading by_id.zip\n",
      "Completed by_id.zip download.\n",
      "Unzipping by_id.zip\n",
      "by_id has been unleashed.\n"
     ]
    }
   ],
   "source": [
    "import wget\n",
    "import os\n",
    "\n",
    "if(not os.path.isfile(\"stable_materials_summary.csv\")):\n",
    "    print(\"Downloading stable_materials_summary.csv\")\n",
    "    URL = \"https://storage.googleapis.com/gdm_materials_discovery/gnome_data/stable_materials_summary.csv\"\n",
    "    response = wget.download(URL, \"stable_materials_summary.csv\")\n",
    "    print(\"Completed stable_materials_summary.csv download.\\n\")\n",
    "\n",
    "if(not os.path.isfile(\"by_id.zip\") and not os.path.isdir(\"by_id\")):\n",
    "    print(\"Downloading by_id.zip\")\n",
    "    URL = \"https://storage.googleapis.com/gdm_materials_discovery/gnome_data/by_id.zip\"\n",
    "    response = wget.download(URL, \"by_id.zip\")\n",
    "    print(\"Completed by_id.zip download.\")\n",
    "\n",
    "if(not os.path.isdir(\"by_id\")):\n",
    "    print(\"Unzipping by_id.zip\")\n",
    "    # importing the zipfile module \n",
    "    from zipfile import ZipFile \n",
    "\n",
    "    # loading the temp.zip and creating a zip object \n",
    "    with ZipFile(\"by_id.zip\", 'r') as zObject: \n",
    "\n",
    "        # Extracting all the members of the zip \n",
    "        # into a specific location. \n",
    "        zObject.extractall(path=\".\")\n",
    "    print(\"by_id has been unleashed.\")"
   ]
  },
  {
   "cell_type": "markdown",
   "metadata": {},
   "source": [
    "## Performing a database search (metal halides)"
   ]
  },
  {
   "cell_type": "markdown",
   "metadata": {},
   "source": [
    "### See Filters.py for all available filters."
   ]
  },
  {
   "cell_type": "code",
   "execution_count": 1,
   "metadata": {},
   "outputs": [
    {
     "name": "stdout",
     "output_type": "stream",
     "text": [
      "Search directory BinaryCompSearch already exists.\n",
      "\n",
      "Starting BinaryComp analysis:\n",
      "BinaryComp analysis complete.\n",
      "3211 materials identified.\n",
      "381660 materials removed from previous analysis (Database).\n"
     ]
    }
   ],
   "source": [
    "from MaterialSearchCore import MaterialSearch\n",
    "\n",
    "searchName = \"MetalHalides\"\n",
    "listOfFilters = [\"BinaryComp\", \"ContainsMetal\"]\n",
    "MaterialSearch(searchName, listOfFilters)"
   ]
  },
  {
   "cell_type": "markdown",
   "metadata": {},
   "source": [
    "So far, you've only searched for binary compounds that contain a metal. So, you're missing a filter that can search for halogens.\n",
    "\n",
    "This lil' exercise will show you how you can add a filter into the Filters.py file for use in your searches."
   ]
  },
  {
   "cell_type": "markdown",
   "metadata": {},
   "source": [
    "The code for the \"ContainsHalogen\" filter is below:"
   ]
  },
  {
   "cell_type": "markdown",
   "metadata": {},
   "source": [
    "    @staticmethod\n",
    "    def _containsHalogen(formula):\n",
    "        \"\"\"\n",
    "        Returns True if a material contains a halogen, returns False otherwise.\n",
    "\n",
    "        This is the core function of ContainsHalogenFilter.\n",
    "        \"\"\"\n",
    "        elemsInFormula = list(Composition(formula).as_dict().keys())\n",
    "        halogens = [\"F\", \"Cl\", \"Br\", \"I\", \"At\"]\n",
    "        if(set(elemsInFormula) & set(halogens)):\n",
    "            return True\n",
    "        else:\n",
    "            return False\n",
    "    \n",
    "    @staticmethod\n",
    "    def ContainsHalogenFilter(results):\n",
    "        \"\"\"\n",
    "        Halogen filter.\n",
    "\n",
    "        This function only saves materials that contain a halogen.\n",
    "\n",
    "        This function is dependant on the _containsHalogen function.\n",
    "        \"\"\"\n",
    "        filteredResults = []\n",
    "        for result in results:\n",
    "            formula = result[\"Reduced Formula\"]\n",
    "            if(Analysis._containsHalogen(formula)):\n",
    "                filteredResults.append(result)\n",
    "        return filteredResults"
   ]
  },
  {
   "cell_type": "markdown",
   "metadata": {},
   "source": [
    "You need to copy and paste this code into the Filters.py file within the Analysis class. You then need to give it a nickname inside the filters dictionary defined in the `__init__` Analysis method."
   ]
  },
  {
   "cell_type": "markdown",
   "metadata": {},
   "source": [
    "Once you've done that, run the code below."
   ]
  },
  {
   "cell_type": "code",
   "execution_count": null,
   "metadata": {},
   "outputs": [],
   "source": [
    "from MaterialSearchCore import MaterialSearch\n",
    "\n",
    "searchName = \"MetalHalides\"\n",
    "listOfFilters = [\"BinaryComp\", \"ContainsMetal\", \"ContainsHalogen\"]\n",
    "MaterialSearch(searchName, listOfFilters)"
   ]
  },
  {
   "cell_type": "markdown",
   "metadata": {},
   "source": [
    "### MXene search"
   ]
  },
  {
   "cell_type": "markdown",
   "metadata": {},
   "source": [
    "MXene criteria:\n",
    "\n",
    "MXene = M = Transition metal , X=C or N\n",
    "It should follow the formulas\n",
    "2-1 (M2C1) , 3-2, 4-3, 5-4\n",
    "And they should be layered structures"
   ]
  },
  {
   "cell_type": "code",
   "execution_count": 1,
   "metadata": {},
   "outputs": [
    {
     "name": "stdout",
     "output_type": "stream",
     "text": [
      "Search directory MXenes already exists.\n",
      "BinaryComp analysis has already been done for search MXenes.\n",
      "ContainsTM analysis has already been done for search MXenes.\n",
      "ContainsCorN analysis has already been done for search MXenes.\n",
      "MXeneRatio analysis has already been done for search MXenes.\n",
      "GetStructures analysis has already been done for search MXenes.\n",
      "Dimensionality analysis has already been done for search MXenes.\n",
      "\n",
      "Starting GetStructures analysis:\n",
      "6_Dimensionality_structures\n",
      "GetStructures analysis complete.\n",
      "1 materials identified.\n",
      "0 materials removed from previous analysis (Dimensionality).\n"
     ]
    }
   ],
   "source": [
    "from MaterialSearchCore import MaterialSearch\n",
    "\n",
    "searchName = \"MXenes\"\n",
    "listOfFilters = [\"BinaryComp\", \"ContainsTM\", \"ContainsCorN\", \"MXeneRatio\", \"GetStructures\", \"Dimensionality\", \"GetStructures\"]\n",
    "MaterialSearch(searchName, listOfFilters)"
   ]
  },
  {
   "cell_type": "code",
   "execution_count": 2,
   "metadata": {},
   "outputs": [
    {
     "name": "stdout",
     "output_type": "stream",
     "text": [
      "Search directory Oxides already exists.\n",
      "ContainsOxygen analysis has already been done for search Oxides.\n",
      "ContainsMetal analysis has already been done for search Oxides.\n",
      "AntiFBlock analysis has already been done for search Oxides.\n",
      "\n",
      "Starting BinaryComp analysis:\n",
      "BinaryComp analysis complete.\n",
      "25 materials identified.\n",
      "14991 materials removed from previous analysis (AntiFBlock).\n"
     ]
    }
   ],
   "source": [
    "from MaterialSearchCore import MaterialSearch\n",
    "\n",
    "searchName = \"Oxides\"\n",
    "listOfFilters = [\"ContainsOxygen\", \"ContainsMetal\", \"AntiFBlock\", \"BinaryComp\"]\n",
    "MaterialSearch(searchName, listOfFilters)"
   ]
  },
  {
   "cell_type": "code",
   "execution_count": null,
   "metadata": {},
   "outputs": [],
   "source": []
  }
 ],
 "metadata": {
  "kernelspec": {
   "display_name": "Python3.11",
   "language": "python",
   "name": "python3"
  },
  "language_info": {
   "codemirror_mode": {
    "name": "ipython",
    "version": 3
   },
   "file_extension": ".py",
   "mimetype": "text/x-python",
   "name": "python",
   "nbconvert_exporter": "python",
   "pygments_lexer": "ipython3",
   "version": "3.12.0"
  }
 },
 "nbformat": 4,
 "nbformat_minor": 2
}
