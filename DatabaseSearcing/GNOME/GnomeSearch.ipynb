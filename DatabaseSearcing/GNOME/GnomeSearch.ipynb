{
 "cells": [
  {
   "cell_type": "markdown",
   "metadata": {},
   "source": [
    "# Gnome search"
   ]
  },
  {
   "cell_type": "markdown",
   "metadata": {},
   "source": [
    "### Some modules you need to have installed (on the first run, DO NOT run all - just run the cell below and then restart the kernel, and THEN run all)."
   ]
  },
  {
   "cell_type": "code",
   "execution_count": 1,
   "metadata": {},
   "outputs": [
    {
     "name": "stdout",
     "output_type": "stream",
     "text": [
      "Requirement already satisfied: numpy in /Users/dcriv/mambaforge/envs/Python3.11/lib/python3.11/site-packages (1.26.2)\n",
      "Note: you may need to restart the kernel to use updated packages.\n",
      "Requirement already satisfied: pandas in /Users/dcriv/mambaforge/envs/Python3.11/lib/python3.11/site-packages (1.5.3)\n",
      "Requirement already satisfied: python-dateutil>=2.8.1 in /Users/dcriv/mambaforge/envs/Python3.11/lib/python3.11/site-packages (from pandas) (2.8.2)\n",
      "Requirement already satisfied: pytz>=2020.1 in /Users/dcriv/mambaforge/envs/Python3.11/lib/python3.11/site-packages (from pandas) (2023.3.post1)\n",
      "Requirement already satisfied: numpy>=1.21.0 in /Users/dcriv/mambaforge/envs/Python3.11/lib/python3.11/site-packages (from pandas) (1.26.2)\n",
      "Requirement already satisfied: six>=1.5 in /Users/dcriv/mambaforge/envs/Python3.11/lib/python3.11/site-packages (from python-dateutil>=2.8.1->pandas) (1.16.0)\n",
      "Note: you may need to restart the kernel to use updated packages.\n",
      "Requirement already satisfied: pymatgen in /Users/dcriv/mambaforge/envs/Python3.11/lib/python3.11/site-packages (2023.11.12)\n",
      "Requirement already satisfied: matplotlib>=1.5 in /Users/dcriv/mambaforge/envs/Python3.11/lib/python3.11/site-packages (from pymatgen) (3.8.2)\n",
      "Requirement already satisfied: monty>=3.0.2 in /Users/dcriv/mambaforge/envs/Python3.11/lib/python3.11/site-packages (from pymatgen) (2023.11.3)\n",
      "Requirement already satisfied: networkx>=2.2 in /Users/dcriv/mambaforge/envs/Python3.11/lib/python3.11/site-packages (from pymatgen) (3.2.1)\n",
      "Requirement already satisfied: numpy>=1.25.0 in /Users/dcriv/mambaforge/envs/Python3.11/lib/python3.11/site-packages (from pymatgen) (1.26.2)\n",
      "Requirement already satisfied: palettable>=3.1.1 in /Users/dcriv/mambaforge/envs/Python3.11/lib/python3.11/site-packages (from pymatgen) (3.3.3)\n",
      "Requirement already satisfied: pandas in /Users/dcriv/mambaforge/envs/Python3.11/lib/python3.11/site-packages (from pymatgen) (1.5.3)\n",
      "Requirement already satisfied: plotly>=4.5.0 in /Users/dcriv/mambaforge/envs/Python3.11/lib/python3.11/site-packages (from pymatgen) (5.18.0)\n",
      "Requirement already satisfied: pybtex in /Users/dcriv/mambaforge/envs/Python3.11/lib/python3.11/site-packages (from pymatgen) (0.24.0)\n",
      "Requirement already satisfied: requests in /Users/dcriv/mambaforge/envs/Python3.11/lib/python3.11/site-packages (from pymatgen) (2.31.0)\n",
      "Requirement already satisfied: ruamel.yaml>=0.17.0 in /Users/dcriv/mambaforge/envs/Python3.11/lib/python3.11/site-packages (from pymatgen) (0.18.5)\n",
      "Requirement already satisfied: scipy>=1.5.0 in /Users/dcriv/mambaforge/envs/Python3.11/lib/python3.11/site-packages (from pymatgen) (1.11.4)\n",
      "Requirement already satisfied: spglib>=2.0.2 in /Users/dcriv/mambaforge/envs/Python3.11/lib/python3.11/site-packages (from pymatgen) (2.1.0)\n",
      "Requirement already satisfied: sympy in /Users/dcriv/mambaforge/envs/Python3.11/lib/python3.11/site-packages (from pymatgen) (1.12)\n",
      "Requirement already satisfied: tabulate in /Users/dcriv/mambaforge/envs/Python3.11/lib/python3.11/site-packages (from pymatgen) (0.9.0)\n",
      "Requirement already satisfied: tqdm in /Users/dcriv/mambaforge/envs/Python3.11/lib/python3.11/site-packages (from pymatgen) (4.66.1)\n",
      "Requirement already satisfied: uncertainties>=3.1.4 in /Users/dcriv/mambaforge/envs/Python3.11/lib/python3.11/site-packages (from pymatgen) (3.1.7)\n",
      "Requirement already satisfied: joblib in /Users/dcriv/mambaforge/envs/Python3.11/lib/python3.11/site-packages (from pymatgen) (1.3.2)\n",
      "Requirement already satisfied: contourpy>=1.0.1 in /Users/dcriv/mambaforge/envs/Python3.11/lib/python3.11/site-packages (from matplotlib>=1.5->pymatgen) (1.2.0)\n",
      "Requirement already satisfied: cycler>=0.10 in /Users/dcriv/mambaforge/envs/Python3.11/lib/python3.11/site-packages (from matplotlib>=1.5->pymatgen) (0.12.1)\n",
      "Requirement already satisfied: fonttools>=4.22.0 in /Users/dcriv/mambaforge/envs/Python3.11/lib/python3.11/site-packages (from matplotlib>=1.5->pymatgen) (4.46.0)\n",
      "Requirement already satisfied: kiwisolver>=1.3.1 in /Users/dcriv/mambaforge/envs/Python3.11/lib/python3.11/site-packages (from matplotlib>=1.5->pymatgen) (1.4.5)\n",
      "Requirement already satisfied: packaging>=20.0 in /Users/dcriv/mambaforge/envs/Python3.11/lib/python3.11/site-packages (from matplotlib>=1.5->pymatgen) (23.2)\n",
      "Requirement already satisfied: pillow>=8 in /Users/dcriv/mambaforge/envs/Python3.11/lib/python3.11/site-packages (from matplotlib>=1.5->pymatgen) (10.1.0)\n",
      "Requirement already satisfied: pyparsing>=2.3.1 in /Users/dcriv/mambaforge/envs/Python3.11/lib/python3.11/site-packages (from matplotlib>=1.5->pymatgen) (3.1.1)\n",
      "Requirement already satisfied: python-dateutil>=2.7 in /Users/dcriv/mambaforge/envs/Python3.11/lib/python3.11/site-packages (from matplotlib>=1.5->pymatgen) (2.8.2)\n",
      "Requirement already satisfied: tenacity>=6.2.0 in /Users/dcriv/mambaforge/envs/Python3.11/lib/python3.11/site-packages (from plotly>=4.5.0->pymatgen) (8.2.3)\n",
      "Requirement already satisfied: ruamel.yaml.clib>=0.2.7 in /Users/dcriv/mambaforge/envs/Python3.11/lib/python3.11/site-packages (from ruamel.yaml>=0.17.0->pymatgen) (0.2.8)\n",
      "Requirement already satisfied: future in /Users/dcriv/mambaforge/envs/Python3.11/lib/python3.11/site-packages (from uncertainties>=3.1.4->pymatgen) (0.18.3)\n",
      "Requirement already satisfied: pytz>=2020.1 in /Users/dcriv/mambaforge/envs/Python3.11/lib/python3.11/site-packages (from pandas->pymatgen) (2023.3.post1)\n",
      "Requirement already satisfied: PyYAML>=3.01 in /Users/dcriv/mambaforge/envs/Python3.11/lib/python3.11/site-packages (from pybtex->pymatgen) (6.0.1)\n",
      "Requirement already satisfied: latexcodec>=1.0.4 in /Users/dcriv/mambaforge/envs/Python3.11/lib/python3.11/site-packages (from pybtex->pymatgen) (2.0.1)\n",
      "Requirement already satisfied: six in /Users/dcriv/mambaforge/envs/Python3.11/lib/python3.11/site-packages (from pybtex->pymatgen) (1.16.0)\n",
      "Requirement already satisfied: charset-normalizer<4,>=2 in /Users/dcriv/mambaforge/envs/Python3.11/lib/python3.11/site-packages (from requests->pymatgen) (3.3.2)\n",
      "Requirement already satisfied: idna<4,>=2.5 in /Users/dcriv/mambaforge/envs/Python3.11/lib/python3.11/site-packages (from requests->pymatgen) (3.6)\n",
      "Requirement already satisfied: urllib3<3,>=1.21.1 in /Users/dcriv/mambaforge/envs/Python3.11/lib/python3.11/site-packages (from requests->pymatgen) (2.1.0)\n",
      "Requirement already satisfied: certifi>=2017.4.17 in /Users/dcriv/mambaforge/envs/Python3.11/lib/python3.11/site-packages (from requests->pymatgen) (2023.11.17)\n",
      "Requirement already satisfied: mpmath>=0.19 in /Users/dcriv/mambaforge/envs/Python3.11/lib/python3.11/site-packages (from sympy->pymatgen) (1.3.0)\n",
      "Note: you may need to restart the kernel to use updated packages.\n",
      "Requirement already satisfied: robocrys in /Users/dcriv/mambaforge/envs/Python3.11/lib/python3.11/site-packages (0.2.8)\n",
      "Requirement already satisfied: inflect in /Users/dcriv/mambaforge/envs/Python3.11/lib/python3.11/site-packages (from robocrys) (7.0.0)\n",
      "Requirement already satisfied: matminer in /Users/dcriv/mambaforge/envs/Python3.11/lib/python3.11/site-packages (from robocrys) (0.9.0)\n",
      "Requirement already satisfied: monty in /Users/dcriv/mambaforge/envs/Python3.11/lib/python3.11/site-packages (from robocrys) (2023.11.3)\n",
      "Requirement already satisfied: networkx in /Users/dcriv/mambaforge/envs/Python3.11/lib/python3.11/site-packages (from robocrys) (3.2.1)\n",
      "Requirement already satisfied: numpy in /Users/dcriv/mambaforge/envs/Python3.11/lib/python3.11/site-packages (from robocrys) (1.26.2)\n",
      "Requirement already satisfied: pubchempy in /Users/dcriv/mambaforge/envs/Python3.11/lib/python3.11/site-packages (from robocrys) (1.0.4)\n",
      "Requirement already satisfied: pybtex in /Users/dcriv/mambaforge/envs/Python3.11/lib/python3.11/site-packages (from robocrys) (0.24.0)\n",
      "Requirement already satisfied: pymatgen>=2020.10.20 in /Users/dcriv/mambaforge/envs/Python3.11/lib/python3.11/site-packages (from robocrys) (2023.11.12)\n",
      "Requirement already satisfied: ruamel.yaml in /Users/dcriv/mambaforge/envs/Python3.11/lib/python3.11/site-packages (from robocrys) (0.18.5)\n",
      "Requirement already satisfied: scipy in /Users/dcriv/mambaforge/envs/Python3.11/lib/python3.11/site-packages (from robocrys) (1.11.4)\n",
      "Requirement already satisfied: spglib in /Users/dcriv/mambaforge/envs/Python3.11/lib/python3.11/site-packages (from robocrys) (2.1.0)\n",
      "Requirement already satisfied: matplotlib>=1.5 in /Users/dcriv/mambaforge/envs/Python3.11/lib/python3.11/site-packages (from pymatgen>=2020.10.20->robocrys) (3.8.2)\n",
      "Requirement already satisfied: palettable>=3.1.1 in /Users/dcriv/mambaforge/envs/Python3.11/lib/python3.11/site-packages (from pymatgen>=2020.10.20->robocrys) (3.3.3)\n",
      "Requirement already satisfied: pandas in /Users/dcriv/mambaforge/envs/Python3.11/lib/python3.11/site-packages (from pymatgen>=2020.10.20->robocrys) (1.5.3)\n",
      "Requirement already satisfied: plotly>=4.5.0 in /Users/dcriv/mambaforge/envs/Python3.11/lib/python3.11/site-packages (from pymatgen>=2020.10.20->robocrys) (5.18.0)\n",
      "Requirement already satisfied: requests in /Users/dcriv/mambaforge/envs/Python3.11/lib/python3.11/site-packages (from pymatgen>=2020.10.20->robocrys) (2.31.0)\n",
      "Requirement already satisfied: sympy in /Users/dcriv/mambaforge/envs/Python3.11/lib/python3.11/site-packages (from pymatgen>=2020.10.20->robocrys) (1.12)\n",
      "Requirement already satisfied: tabulate in /Users/dcriv/mambaforge/envs/Python3.11/lib/python3.11/site-packages (from pymatgen>=2020.10.20->robocrys) (0.9.0)\n",
      "Requirement already satisfied: tqdm in /Users/dcriv/mambaforge/envs/Python3.11/lib/python3.11/site-packages (from pymatgen>=2020.10.20->robocrys) (4.66.1)\n",
      "Requirement already satisfied: uncertainties>=3.1.4 in /Users/dcriv/mambaforge/envs/Python3.11/lib/python3.11/site-packages (from pymatgen>=2020.10.20->robocrys) (3.1.7)\n",
      "Requirement already satisfied: joblib in /Users/dcriv/mambaforge/envs/Python3.11/lib/python3.11/site-packages (from pymatgen>=2020.10.20->robocrys) (1.3.2)\n",
      "Requirement already satisfied: ruamel.yaml.clib>=0.2.7 in /Users/dcriv/mambaforge/envs/Python3.11/lib/python3.11/site-packages (from ruamel.yaml->robocrys) (0.2.8)\n",
      "Requirement already satisfied: pydantic>=1.9.1 in /Users/dcriv/mambaforge/envs/Python3.11/lib/python3.11/site-packages (from inflect->robocrys) (2.5.2)\n",
      "Requirement already satisfied: typing-extensions in /Users/dcriv/mambaforge/envs/Python3.11/lib/python3.11/site-packages (from inflect->robocrys) (4.8.0)\n",
      "Requirement already satisfied: pymongo in /Users/dcriv/mambaforge/envs/Python3.11/lib/python3.11/site-packages (from matminer->robocrys) (4.6.1)\n",
      "Requirement already satisfied: future in /Users/dcriv/mambaforge/envs/Python3.11/lib/python3.11/site-packages (from matminer->robocrys) (0.18.3)\n",
      "Requirement already satisfied: scikit-learn in /Users/dcriv/mambaforge/envs/Python3.11/lib/python3.11/site-packages (from matminer->robocrys) (1.3.2)\n",
      "Requirement already satisfied: PyYAML>=3.01 in /Users/dcriv/mambaforge/envs/Python3.11/lib/python3.11/site-packages (from pybtex->robocrys) (6.0.1)\n",
      "Requirement already satisfied: latexcodec>=1.0.4 in /Users/dcriv/mambaforge/envs/Python3.11/lib/python3.11/site-packages (from pybtex->robocrys) (2.0.1)\n",
      "Requirement already satisfied: six in /Users/dcriv/mambaforge/envs/Python3.11/lib/python3.11/site-packages (from pybtex->robocrys) (1.16.0)\n",
      "Requirement already satisfied: contourpy>=1.0.1 in /Users/dcriv/mambaforge/envs/Python3.11/lib/python3.11/site-packages (from matplotlib>=1.5->pymatgen>=2020.10.20->robocrys) (1.2.0)\n",
      "Requirement already satisfied: cycler>=0.10 in /Users/dcriv/mambaforge/envs/Python3.11/lib/python3.11/site-packages (from matplotlib>=1.5->pymatgen>=2020.10.20->robocrys) (0.12.1)\n",
      "Requirement already satisfied: fonttools>=4.22.0 in /Users/dcriv/mambaforge/envs/Python3.11/lib/python3.11/site-packages (from matplotlib>=1.5->pymatgen>=2020.10.20->robocrys) (4.46.0)\n",
      "Requirement already satisfied: kiwisolver>=1.3.1 in /Users/dcriv/mambaforge/envs/Python3.11/lib/python3.11/site-packages (from matplotlib>=1.5->pymatgen>=2020.10.20->robocrys) (1.4.5)\n",
      "Requirement already satisfied: packaging>=20.0 in /Users/dcriv/mambaforge/envs/Python3.11/lib/python3.11/site-packages (from matplotlib>=1.5->pymatgen>=2020.10.20->robocrys) (23.2)\n",
      "Requirement already satisfied: pillow>=8 in /Users/dcriv/mambaforge/envs/Python3.11/lib/python3.11/site-packages (from matplotlib>=1.5->pymatgen>=2020.10.20->robocrys) (10.1.0)\n",
      "Requirement already satisfied: pyparsing>=2.3.1 in /Users/dcriv/mambaforge/envs/Python3.11/lib/python3.11/site-packages (from matplotlib>=1.5->pymatgen>=2020.10.20->robocrys) (3.1.1)\n",
      "Requirement already satisfied: python-dateutil>=2.7 in /Users/dcriv/mambaforge/envs/Python3.11/lib/python3.11/site-packages (from matplotlib>=1.5->pymatgen>=2020.10.20->robocrys) (2.8.2)\n",
      "Requirement already satisfied: pytz>=2020.1 in /Users/dcriv/mambaforge/envs/Python3.11/lib/python3.11/site-packages (from pandas->pymatgen>=2020.10.20->robocrys) (2023.3.post1)\n",
      "Requirement already satisfied: tenacity>=6.2.0 in /Users/dcriv/mambaforge/envs/Python3.11/lib/python3.11/site-packages (from plotly>=4.5.0->pymatgen>=2020.10.20->robocrys) (8.2.3)\n",
      "Requirement already satisfied: annotated-types>=0.4.0 in /Users/dcriv/mambaforge/envs/Python3.11/lib/python3.11/site-packages (from pydantic>=1.9.1->inflect->robocrys) (0.6.0)\n",
      "Requirement already satisfied: pydantic-core==2.14.5 in /Users/dcriv/mambaforge/envs/Python3.11/lib/python3.11/site-packages (from pydantic>=1.9.1->inflect->robocrys) (2.14.5)\n",
      "Requirement already satisfied: dnspython<3.0.0,>=1.16.0 in /Users/dcriv/mambaforge/envs/Python3.11/lib/python3.11/site-packages (from pymongo->matminer->robocrys) (2.4.2)\n",
      "Requirement already satisfied: charset-normalizer<4,>=2 in /Users/dcriv/mambaforge/envs/Python3.11/lib/python3.11/site-packages (from requests->pymatgen>=2020.10.20->robocrys) (3.3.2)\n",
      "Requirement already satisfied: idna<4,>=2.5 in /Users/dcriv/mambaforge/envs/Python3.11/lib/python3.11/site-packages (from requests->pymatgen>=2020.10.20->robocrys) (3.6)\n",
      "Requirement already satisfied: urllib3<3,>=1.21.1 in /Users/dcriv/mambaforge/envs/Python3.11/lib/python3.11/site-packages (from requests->pymatgen>=2020.10.20->robocrys) (2.1.0)\n",
      "Requirement already satisfied: certifi>=2017.4.17 in /Users/dcriv/mambaforge/envs/Python3.11/lib/python3.11/site-packages (from requests->pymatgen>=2020.10.20->robocrys) (2023.11.17)\n",
      "Requirement already satisfied: threadpoolctl>=2.0.0 in /Users/dcriv/mambaforge/envs/Python3.11/lib/python3.11/site-packages (from scikit-learn->matminer->robocrys) (3.2.0)\n",
      "Requirement already satisfied: mpmath>=0.19 in /Users/dcriv/mambaforge/envs/Python3.11/lib/python3.11/site-packages (from sympy->pymatgen>=2020.10.20->robocrys) (1.3.0)\n",
      "Note: you may need to restart the kernel to use updated packages.\n",
      "Requirement already satisfied: json_tricks in /Users/dcriv/mambaforge/envs/Python3.11/lib/python3.11/site-packages (3.17.3)\n",
      "Note: you may need to restart the kernel to use updated packages.\n",
      "Requirement already satisfied: openpyxl in /Users/dcriv/mambaforge/envs/Python3.11/lib/python3.11/site-packages (3.1.2)\n",
      "Requirement already satisfied: et-xmlfile in /Users/dcriv/mambaforge/envs/Python3.11/lib/python3.11/site-packages (from openpyxl) (1.1.0)\n",
      "Note: you may need to restart the kernel to use updated packages.\n",
      "Requirement already satisfied: wget in /Users/dcriv/mambaforge/envs/Python3.11/lib/python3.11/site-packages (3.2)\n",
      "Note: you may need to restart the kernel to use updated packages.\n"
     ]
    }
   ],
   "source": [
    "%pip install numpy\n",
    "%pip install pandas\n",
    "%pip install pymatgen\n",
    "%pip install robocrys\n",
    "%pip install json_tricks\n",
    "%pip install openpyxl\n",
    "%pip install wget"
   ]
  },
  {
   "cell_type": "markdown",
   "metadata": {},
   "source": [
    "### Now restart and run all (if this is your first run)."
   ]
  },
  {
   "cell_type": "markdown",
   "metadata": {},
   "source": [
    "### Downloading necessary files (if they haven't been downloaded already)"
   ]
  },
  {
   "cell_type": "code",
   "execution_count": 2,
   "metadata": {},
   "outputs": [
    {
     "name": "stdout",
     "output_type": "stream",
     "text": [
      "Downloading stable_materials_summary.csv\n",
      "Completed stable_materials_summary.csv download.\n",
      "\n",
      "Downloading by_id.zip\n",
      "Completed by_id.zip download.\n",
      "Unzipping by_id.zip\n",
      "by_id has been unleashed.\n"
     ]
    }
   ],
   "source": [
    "import wget\n",
    "import os\n",
    "\n",
    "if(not os.path.isfile(\"stable_materials_summary.csv\")):\n",
    "    print(\"Downloading stable_materials_summary.csv\")\n",
    "    URL = \"https://storage.googleapis.com/gdm_materials_discovery/gnome_data/stable_materials_summary.csv\"\n",
    "    response = wget.download(URL, \"stable_materials_summary.csv\")\n",
    "    print(\"Completed stable_materials_summary.csv download.\\n\")\n",
    "\n",
    "if(not os.path.isfile(\"by_id.zip\") and not os.path.isdir(\"by_id\")):\n",
    "    print(\"Downloading by_id.zip\")\n",
    "    URL = \"https://storage.googleapis.com/gdm_materials_discovery/gnome_data/by_id.zip\"\n",
    "    response = wget.download(URL, \"by_id.zip\")\n",
    "    print(\"Completed by_id.zip download.\")\n",
    "\n",
    "if(not os.path.isdir(\"by_id\")):\n",
    "    print(\"Unzipping by_id.zip\")\n",
    "    # importing the zipfile module \n",
    "    from zipfile import ZipFile \n",
    "\n",
    "    # loading the temp.zip and creating a zip object \n",
    "    with ZipFile(\"by_id.zip\", 'r') as zObject: \n",
    "\n",
    "        # Extracting all the members of the zip \n",
    "        # into a specific location. \n",
    "        zObject.extractall(path=\".\")\n",
    "    print(\"by_id has been unleashed.\")"
   ]
  },
  {
   "cell_type": "markdown",
   "metadata": {},
   "source": [
    "## Performing a database search (metal halides)"
   ]
  },
  {
   "cell_type": "markdown",
   "metadata": {},
   "source": [
    "### See Filters.py for all available filters."
   ]
  },
  {
   "cell_type": "code",
   "execution_count": 1,
   "metadata": {},
   "outputs": [
    {
     "name": "stdout",
     "output_type": "stream",
     "text": [
      "Search directory BinaryCompSearch already exists.\n",
      "\n",
      "Starting BinaryComp analysis:\n",
      "BinaryComp analysis complete.\n",
      "3211 materials identified.\n",
      "381660 materials removed from previous analysis (Database).\n"
     ]
    }
   ],
   "source": [
    "from MaterialSearchCore import MaterialSearch\n",
    "\n",
    "searchName = \"MetalHalides\"\n",
    "listOfFilters = [\"BinaryComp\", \"ContainsMetal\", \"ContainsHalogen\"]\n",
    "MaterialSearch(searchName, listOfFilters)"
   ]
  },
  {
   "cell_type": "code",
   "execution_count": null,
   "metadata": {},
   "outputs": [],
   "source": []
  }
 ],
 "metadata": {
  "kernelspec": {
   "display_name": "Python3.11",
   "language": "python",
   "name": "python3"
  },
  "language_info": {
   "codemirror_mode": {
    "name": "ipython",
    "version": 3
   },
   "file_extension": ".py",
   "mimetype": "text/x-python",
   "name": "python",
   "nbconvert_exporter": "python",
   "pygments_lexer": "ipython3",
   "version": "3.11.5"
  }
 },
 "nbformat": 4,
 "nbformat_minor": 2
}
